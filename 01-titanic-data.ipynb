{
 "cells": [
  {
   "cell_type": "markdown",
   "metadata": {},
   "source": [
    "# Clean and standardize Titanic data"
   ]
  },
  {
   "cell_type": "code",
   "execution_count": 1,
   "metadata": {},
   "outputs": [
    {
     "output_type": "execute_result",
     "data": {
      "text/plain": "      sex   age     fare   class  embark_town  alone\n0    male  22.0   7.2500   Third  Southampton  False\n1  female  38.0  71.2833   First    Cherbourg  False\n2  female  26.0   7.9250   Third  Southampton   True\n3  female  35.0  53.1000   First  Southampton  False\n4    male  35.0   8.0500   Third  Southampton   True\n5    male   NaN   8.4583   Third   Queenstown   True\n6    male  54.0  51.8625   First  Southampton   True\n7    male   2.0  21.0750   Third  Southampton  False\n8  female  27.0  11.1333   Third  Southampton  False\n9  female  14.0  30.0708  Second    Cherbourg  False",
      "text/html": "<div>\n<style scoped>\n    .dataframe tbody tr th:only-of-type {\n        vertical-align: middle;\n    }\n\n    .dataframe tbody tr th {\n        vertical-align: top;\n    }\n\n    .dataframe thead th {\n        text-align: right;\n    }\n</style>\n<table border=\"1\" class=\"dataframe\">\n  <thead>\n    <tr style=\"text-align: right;\">\n      <th></th>\n      <th>sex</th>\n      <th>age</th>\n      <th>fare</th>\n      <th>class</th>\n      <th>embark_town</th>\n      <th>alone</th>\n    </tr>\n  </thead>\n  <tbody>\n    <tr>\n      <th>0</th>\n      <td>male</td>\n      <td>22.0</td>\n      <td>7.2500</td>\n      <td>Third</td>\n      <td>Southampton</td>\n      <td>False</td>\n    </tr>\n    <tr>\n      <th>1</th>\n      <td>female</td>\n      <td>38.0</td>\n      <td>71.2833</td>\n      <td>First</td>\n      <td>Cherbourg</td>\n      <td>False</td>\n    </tr>\n    <tr>\n      <th>2</th>\n      <td>female</td>\n      <td>26.0</td>\n      <td>7.9250</td>\n      <td>Third</td>\n      <td>Southampton</td>\n      <td>True</td>\n    </tr>\n    <tr>\n      <th>3</th>\n      <td>female</td>\n      <td>35.0</td>\n      <td>53.1000</td>\n      <td>First</td>\n      <td>Southampton</td>\n      <td>False</td>\n    </tr>\n    <tr>\n      <th>4</th>\n      <td>male</td>\n      <td>35.0</td>\n      <td>8.0500</td>\n      <td>Third</td>\n      <td>Southampton</td>\n      <td>True</td>\n    </tr>\n    <tr>\n      <th>5</th>\n      <td>male</td>\n      <td>NaN</td>\n      <td>8.4583</td>\n      <td>Third</td>\n      <td>Queenstown</td>\n      <td>True</td>\n    </tr>\n    <tr>\n      <th>6</th>\n      <td>male</td>\n      <td>54.0</td>\n      <td>51.8625</td>\n      <td>First</td>\n      <td>Southampton</td>\n      <td>True</td>\n    </tr>\n    <tr>\n      <th>7</th>\n      <td>male</td>\n      <td>2.0</td>\n      <td>21.0750</td>\n      <td>Third</td>\n      <td>Southampton</td>\n      <td>False</td>\n    </tr>\n    <tr>\n      <th>8</th>\n      <td>female</td>\n      <td>27.0</td>\n      <td>11.1333</td>\n      <td>Third</td>\n      <td>Southampton</td>\n      <td>False</td>\n    </tr>\n    <tr>\n      <th>9</th>\n      <td>female</td>\n      <td>14.0</td>\n      <td>30.0708</td>\n      <td>Second</td>\n      <td>Cherbourg</td>\n      <td>False</td>\n    </tr>\n  </tbody>\n</table>\n</div>"
     },
     "metadata": {},
     "execution_count": 1
    }
   ],
   "source": [
    "import seaborn as sns\n",
    "titanic = sns.load_dataset('titanic')\n",
    "\n",
    "X = titanic[['sex', 'age', 'fare', 'class', 'embark_town', 'alone']]\n",
    "Y = titanic['survived']\n",
    "\n",
    "X.head(10)"
   ]
  },
  {
   "cell_type": "code",
   "execution_count": 2,
   "metadata": {},
   "outputs": [
    {
     "output_type": "execute_result",
     "data": {
      "text/plain": "sex              0\nage            177\nfare             0\nclass            0\nembark_town      2\nalone            0\ndtype: int64"
     },
     "metadata": {},
     "execution_count": 2
    }
   ],
   "source": [
    "X.isna().sum()"
   ]
  },
  {
   "cell_type": "code",
   "execution_count": 3,
   "metadata": {},
   "outputs": [
    {
     "output_type": "execute_result",
     "data": {
      "text/plain": "        sex   age  fare  class embark_town  alone\n61   female  38.0  80.0  First         NaN   True\n829  female  62.0  80.0  First         NaN   True",
      "text/html": "<div>\n<style scoped>\n    .dataframe tbody tr th:only-of-type {\n        vertical-align: middle;\n    }\n\n    .dataframe tbody tr th {\n        vertical-align: top;\n    }\n\n    .dataframe thead th {\n        text-align: right;\n    }\n</style>\n<table border=\"1\" class=\"dataframe\">\n  <thead>\n    <tr style=\"text-align: right;\">\n      <th></th>\n      <th>sex</th>\n      <th>age</th>\n      <th>fare</th>\n      <th>class</th>\n      <th>embark_town</th>\n      <th>alone</th>\n    </tr>\n  </thead>\n  <tbody>\n    <tr>\n      <th>61</th>\n      <td>female</td>\n      <td>38.0</td>\n      <td>80.0</td>\n      <td>First</td>\n      <td>NaN</td>\n      <td>True</td>\n    </tr>\n    <tr>\n      <th>829</th>\n      <td>female</td>\n      <td>62.0</td>\n      <td>80.0</td>\n      <td>First</td>\n      <td>NaN</td>\n      <td>True</td>\n    </tr>\n  </tbody>\n</table>\n</div>"
     },
     "metadata": {},
     "execution_count": 3
    }
   ],
   "source": [
    "X[X['embark_town'].isna()]"
   ]
  },
  {
   "cell_type": "markdown",
   "metadata": {},
   "source": [
    "## Age: mean imputation"
   ]
  },
  {
   "cell_type": "code",
   "execution_count": 4,
   "metadata": {},
   "outputs": [
    {
     "output_type": "execute_result",
     "data": {
      "text/plain": "30.0"
     },
     "metadata": {},
     "execution_count": 4
    }
   ],
   "source": [
    "mean_age = X['age'].mean().round()\n",
    "mean_age"
   ]
  },
  {
   "cell_type": "code",
   "execution_count": 5,
   "metadata": {},
   "outputs": [
    {
     "output_type": "execute_result",
     "data": {
      "text/plain": "sex            0\nage            0\nfare           0\nclass          0\nembark_town    2\nalone          0\ndtype: int64"
     },
     "metadata": {},
     "execution_count": 5
    }
   ],
   "source": [
    "X['age'].fillna(mean_age, inplace=True)\n",
    "X.isna().sum()"
   ]
  },
  {
   "cell_type": "markdown",
   "metadata": {},
   "source": [
    "## Missing embark_town: drop"
   ]
  },
  {
   "cell_type": "code",
   "execution_count": 6,
   "metadata": {},
   "outputs": [
    {
     "output_type": "execute_result",
     "data": {
      "text/plain": "(889, 6)"
     },
     "metadata": {},
     "execution_count": 6
    }
   ],
   "source": [
    "X = X[X['embark_town'].notnull()]\n",
    "X.shape"
   ]
  },
  {
   "cell_type": "markdown",
   "metadata": {},
   "source": [
    "## Outliers\n",
    "\n",
    "[Cleaning up Data from Outliers](https://www.pluralsight.com/guides/cleaning-up-data-from-outliers)\n",
    "\n",
    "[Ways to Detect and Remove the Outliers](https://towardsdatascience.com/ways-to-detect-and-remove-the-outliers-404d16608dba)"
   ]
  },
  {
   "cell_type": "code",
   "execution_count": 7,
   "metadata": {},
   "outputs": [
    {
     "output_type": "stream",
     "name": "stdout",
     "text": "<class 'pandas.core.frame.DataFrame'>\nInt64Index: 889 entries, 0 to 890\nData columns (total 6 columns):\n #   Column       Non-Null Count  Dtype   \n---  ------       --------------  -----   \n 0   sex          889 non-null    object  \n 1   age          889 non-null    float64 \n 2   fare         889 non-null    float64 \n 3   class        889 non-null    category\n 4   embark_town  889 non-null    object  \n 5   alone        889 non-null    bool    \ndtypes: bool(1), category(1), float64(2), object(2)\nmemory usage: 36.6+ KB\n"
    }
   ],
   "source": [
    "X.info()"
   ]
  },
  {
   "cell_type": "code",
   "execution_count": 8,
   "metadata": {},
   "outputs": [
    {
     "output_type": "execute_result",
     "data": {
      "text/plain": "              age        fare\ncount  889.000000  889.000000\nmean    29.713352   32.096681\nstd     12.969135   49.697504\nmin      0.420000    0.000000\n25%     22.000000    7.895800\n50%     30.000000   14.454200\n75%     35.000000   31.000000\nmax     80.000000  512.329200",
      "text/html": "<div>\n<style scoped>\n    .dataframe tbody tr th:only-of-type {\n        vertical-align: middle;\n    }\n\n    .dataframe tbody tr th {\n        vertical-align: top;\n    }\n\n    .dataframe thead th {\n        text-align: right;\n    }\n</style>\n<table border=\"1\" class=\"dataframe\">\n  <thead>\n    <tr style=\"text-align: right;\">\n      <th></th>\n      <th>age</th>\n      <th>fare</th>\n    </tr>\n  </thead>\n  <tbody>\n    <tr>\n      <th>count</th>\n      <td>889.000000</td>\n      <td>889.000000</td>\n    </tr>\n    <tr>\n      <th>mean</th>\n      <td>29.713352</td>\n      <td>32.096681</td>\n    </tr>\n    <tr>\n      <th>std</th>\n      <td>12.969135</td>\n      <td>49.697504</td>\n    </tr>\n    <tr>\n      <th>min</th>\n      <td>0.420000</td>\n      <td>0.000000</td>\n    </tr>\n    <tr>\n      <th>25%</th>\n      <td>22.000000</td>\n      <td>7.895800</td>\n    </tr>\n    <tr>\n      <th>50%</th>\n      <td>30.000000</td>\n      <td>14.454200</td>\n    </tr>\n    <tr>\n      <th>75%</th>\n      <td>35.000000</td>\n      <td>31.000000</td>\n    </tr>\n    <tr>\n      <th>max</th>\n      <td>80.000000</td>\n      <td>512.329200</td>\n    </tr>\n  </tbody>\n</table>\n</div>"
     },
     "metadata": {},
     "execution_count": 8
    }
   ],
   "source": [
    "X.describe()"
   ]
  },
  {
   "cell_type": "code",
   "execution_count": 9,
   "metadata": {},
   "outputs": [
    {
     "output_type": "execute_result",
     "data": {
      "text/plain": "age      13.0000\nfare     23.1042\nalone     1.0000\ndtype: float64"
     },
     "metadata": {},
     "execution_count": 9
    }
   ],
   "source": [
    "Q1 = X.quantile(0.25)\n",
    "Q3 = X.quantile(0.75)\n",
    "IQR = Q3 - Q1\n",
    "IQR"
   ]
  },
  {
   "cell_type": "markdown",
   "metadata": {},
   "source": [
    "**skewness value**: extent to which the data is normally distributed. Ideally, the skewness value should be between -1 and +1, and any major deviation from this range indicates the presence of extreme values"
   ]
  },
  {
   "cell_type": "code",
   "execution_count": 10,
   "metadata": {},
   "outputs": [
    {
     "output_type": "execute_result",
     "data": {
      "text/plain": "4.801440211044194"
     },
     "metadata": {},
     "execution_count": 10
    }
   ],
   "source": [
    "X['fare'].skew()"
   ]
  },
  {
   "cell_type": "code",
   "execution_count": 27,
   "metadata": {},
   "outputs": [
    {
     "output_type": "display_data",
     "data": {
      "text/plain": "<Figure size 432x288 with 1 Axes>",
      "image/svg+xml": "<?xml version=\"1.0\" encoding=\"utf-8\" standalone=\"no\"?>\n<!DOCTYPE svg PUBLIC \"-//W3C//DTD SVG 1.1//EN\"\n  \"http://www.w3.org/Graphics/SVG/1.1/DTD/svg11.dtd\">\n<!-- Created with matplotlib (https://matplotlib.org/) -->\n<svg height=\"248.518125pt\" version=\"1.1\" viewBox=\"0 0 372.103125 248.518125\" width=\"372.103125pt\" xmlns=\"http://www.w3.org/2000/svg\" xmlns:xlink=\"http://www.w3.org/1999/xlink\">\n <defs>\n  <style type=\"text/css\">\n*{stroke-linecap:butt;stroke-linejoin:round;}\n  </style>\n </defs>\n <g id=\"figure_1\">\n  <g id=\"patch_1\">\n   <path d=\"M 0 248.518125 \nL 372.103125 248.518125 \nL 372.103125 0 \nL 0 0 \nz\n\" style=\"fill:none;\"/>\n  </g>\n  <g id=\"axes_1\">\n   <g id=\"patch_2\">\n    <path d=\"M 30.103125 224.64 \nL 364.903125 224.64 \nL 364.903125 7.2 \nL 30.103125 7.2 \nz\n\" style=\"fill:#ffffff;\"/>\n   </g>\n   <g id=\"matplotlib.axis_1\">\n    <g id=\"xtick_1\">\n     <g id=\"line2d_1\">\n      <defs>\n       <path d=\"M 0 0 \nL 0 3.5 \n\" id=\"m2ab076ecc0\" style=\"stroke:#000000;stroke-width:0.8;\"/>\n      </defs>\n      <g>\n       <use style=\"stroke:#000000;stroke-width:0.8;\" x=\"197.503125\" xlink:href=\"#m2ab076ecc0\" y=\"224.64\"/>\n      </g>\n     </g>\n     <g id=\"text_1\">\n      <!-- 1 -->\n      <defs>\n       <path d=\"M 12.40625 8.296875 \nL 28.515625 8.296875 \nL 28.515625 63.921875 \nL 10.984375 60.40625 \nL 10.984375 69.390625 \nL 28.421875 72.90625 \nL 38.28125 72.90625 \nL 38.28125 8.296875 \nL 54.390625 8.296875 \nL 54.390625 0 \nL 12.40625 0 \nz\n\" id=\"DejaVuSans-49\"/>\n      </defs>\n      <g transform=\"translate(194.321875 239.238437)scale(0.1 -0.1)\">\n       <use xlink:href=\"#DejaVuSans-49\"/>\n      </g>\n     </g>\n    </g>\n   </g>\n   <g id=\"matplotlib.axis_2\">\n    <g id=\"ytick_1\">\n     <g id=\"line2d_2\">\n      <defs>\n       <path d=\"M 0 0 \nL -3.5 0 \n\" id=\"mdacd9e3973\" style=\"stroke:#000000;stroke-width:0.8;\"/>\n      </defs>\n      <g>\n       <use style=\"stroke:#000000;stroke-width:0.8;\" x=\"30.103125\" xlink:href=\"#mdacd9e3973\" y=\"214.756364\"/>\n      </g>\n     </g>\n     <g id=\"text_2\">\n      <!-- 0.0 -->\n      <defs>\n       <path d=\"M 31.78125 66.40625 \nQ 24.171875 66.40625 20.328125 58.90625 \nQ 16.5 51.421875 16.5 36.375 \nQ 16.5 21.390625 20.328125 13.890625 \nQ 24.171875 6.390625 31.78125 6.390625 \nQ 39.453125 6.390625 43.28125 13.890625 \nQ 47.125 21.390625 47.125 36.375 \nQ 47.125 51.421875 43.28125 58.90625 \nQ 39.453125 66.40625 31.78125 66.40625 \nz\nM 31.78125 74.21875 \nQ 44.046875 74.21875 50.515625 64.515625 \nQ 56.984375 54.828125 56.984375 36.375 \nQ 56.984375 17.96875 50.515625 8.265625 \nQ 44.046875 -1.421875 31.78125 -1.421875 \nQ 19.53125 -1.421875 13.0625 8.265625 \nQ 6.59375 17.96875 6.59375 36.375 \nQ 6.59375 54.828125 13.0625 64.515625 \nQ 19.53125 74.21875 31.78125 74.21875 \nz\n\" id=\"DejaVuSans-48\"/>\n       <path d=\"M 10.6875 12.40625 \nL 21 12.40625 \nL 21 0 \nL 10.6875 0 \nz\n\" id=\"DejaVuSans-46\"/>\n      </defs>\n      <g transform=\"translate(7.2 218.555582)scale(0.1 -0.1)\">\n       <use xlink:href=\"#DejaVuSans-48\"/>\n       <use x=\"63.623047\" xlink:href=\"#DejaVuSans-46\"/>\n       <use x=\"95.410156\" xlink:href=\"#DejaVuSans-48\"/>\n      </g>\n     </g>\n    </g>\n    <g id=\"ytick_2\">\n     <g id=\"line2d_3\">\n      <g>\n       <use style=\"stroke:#000000;stroke-width:0.8;\" x=\"30.103125\" xlink:href=\"#mdacd9e3973\" y=\"175.221818\"/>\n      </g>\n     </g>\n     <g id=\"text_3\">\n      <!-- 0.2 -->\n      <defs>\n       <path d=\"M 19.1875 8.296875 \nL 53.609375 8.296875 \nL 53.609375 0 \nL 7.328125 0 \nL 7.328125 8.296875 \nQ 12.9375 14.109375 22.625 23.890625 \nQ 32.328125 33.6875 34.8125 36.53125 \nQ 39.546875 41.84375 41.421875 45.53125 \nQ 43.3125 49.21875 43.3125 52.78125 \nQ 43.3125 58.59375 39.234375 62.25 \nQ 35.15625 65.921875 28.609375 65.921875 \nQ 23.96875 65.921875 18.8125 64.3125 \nQ 13.671875 62.703125 7.8125 59.421875 \nL 7.8125 69.390625 \nQ 13.765625 71.78125 18.9375 73 \nQ 24.125 74.21875 28.421875 74.21875 \nQ 39.75 74.21875 46.484375 68.546875 \nQ 53.21875 62.890625 53.21875 53.421875 \nQ 53.21875 48.921875 51.53125 44.890625 \nQ 49.859375 40.875 45.40625 35.40625 \nQ 44.1875 33.984375 37.640625 27.21875 \nQ 31.109375 20.453125 19.1875 8.296875 \nz\n\" id=\"DejaVuSans-50\"/>\n      </defs>\n      <g transform=\"translate(7.2 179.021037)scale(0.1 -0.1)\">\n       <use xlink:href=\"#DejaVuSans-48\"/>\n       <use x=\"63.623047\" xlink:href=\"#DejaVuSans-46\"/>\n       <use x=\"95.410156\" xlink:href=\"#DejaVuSans-50\"/>\n      </g>\n     </g>\n    </g>\n    <g id=\"ytick_3\">\n     <g id=\"line2d_4\">\n      <g>\n       <use style=\"stroke:#000000;stroke-width:0.8;\" x=\"30.103125\" xlink:href=\"#mdacd9e3973\" y=\"135.687273\"/>\n      </g>\n     </g>\n     <g id=\"text_4\">\n      <!-- 0.4 -->\n      <defs>\n       <path d=\"M 37.796875 64.3125 \nL 12.890625 25.390625 \nL 37.796875 25.390625 \nz\nM 35.203125 72.90625 \nL 47.609375 72.90625 \nL 47.609375 25.390625 \nL 58.015625 25.390625 \nL 58.015625 17.1875 \nL 47.609375 17.1875 \nL 47.609375 0 \nL 37.796875 0 \nL 37.796875 17.1875 \nL 4.890625 17.1875 \nL 4.890625 26.703125 \nz\n\" id=\"DejaVuSans-52\"/>\n      </defs>\n      <g transform=\"translate(7.2 139.486491)scale(0.1 -0.1)\">\n       <use xlink:href=\"#DejaVuSans-48\"/>\n       <use x=\"63.623047\" xlink:href=\"#DejaVuSans-46\"/>\n       <use x=\"95.410156\" xlink:href=\"#DejaVuSans-52\"/>\n      </g>\n     </g>\n    </g>\n    <g id=\"ytick_4\">\n     <g id=\"line2d_5\">\n      <g>\n       <use style=\"stroke:#000000;stroke-width:0.8;\" x=\"30.103125\" xlink:href=\"#mdacd9e3973\" y=\"96.152727\"/>\n      </g>\n     </g>\n     <g id=\"text_5\">\n      <!-- 0.6 -->\n      <defs>\n       <path d=\"M 33.015625 40.375 \nQ 26.375 40.375 22.484375 35.828125 \nQ 18.609375 31.296875 18.609375 23.390625 \nQ 18.609375 15.53125 22.484375 10.953125 \nQ 26.375 6.390625 33.015625 6.390625 \nQ 39.65625 6.390625 43.53125 10.953125 \nQ 47.40625 15.53125 47.40625 23.390625 \nQ 47.40625 31.296875 43.53125 35.828125 \nQ 39.65625 40.375 33.015625 40.375 \nz\nM 52.59375 71.296875 \nL 52.59375 62.3125 \nQ 48.875 64.0625 45.09375 64.984375 \nQ 41.3125 65.921875 37.59375 65.921875 \nQ 27.828125 65.921875 22.671875 59.328125 \nQ 17.53125 52.734375 16.796875 39.40625 \nQ 19.671875 43.65625 24.015625 45.921875 \nQ 28.375 48.1875 33.59375 48.1875 \nQ 44.578125 48.1875 50.953125 41.515625 \nQ 57.328125 34.859375 57.328125 23.390625 \nQ 57.328125 12.15625 50.6875 5.359375 \nQ 44.046875 -1.421875 33.015625 -1.421875 \nQ 20.359375 -1.421875 13.671875 8.265625 \nQ 6.984375 17.96875 6.984375 36.375 \nQ 6.984375 53.65625 15.1875 63.9375 \nQ 23.390625 74.21875 37.203125 74.21875 \nQ 40.921875 74.21875 44.703125 73.484375 \nQ 48.484375 72.75 52.59375 71.296875 \nz\n\" id=\"DejaVuSans-54\"/>\n      </defs>\n      <g transform=\"translate(7.2 99.951946)scale(0.1 -0.1)\">\n       <use xlink:href=\"#DejaVuSans-48\"/>\n       <use x=\"63.623047\" xlink:href=\"#DejaVuSans-46\"/>\n       <use x=\"95.410156\" xlink:href=\"#DejaVuSans-54\"/>\n      </g>\n     </g>\n    </g>\n    <g id=\"ytick_5\">\n     <g id=\"line2d_6\">\n      <g>\n       <use style=\"stroke:#000000;stroke-width:0.8;\" x=\"30.103125\" xlink:href=\"#mdacd9e3973\" y=\"56.618182\"/>\n      </g>\n     </g>\n     <g id=\"text_6\">\n      <!-- 0.8 -->\n      <defs>\n       <path d=\"M 31.78125 34.625 \nQ 24.75 34.625 20.71875 30.859375 \nQ 16.703125 27.09375 16.703125 20.515625 \nQ 16.703125 13.921875 20.71875 10.15625 \nQ 24.75 6.390625 31.78125 6.390625 \nQ 38.8125 6.390625 42.859375 10.171875 \nQ 46.921875 13.96875 46.921875 20.515625 \nQ 46.921875 27.09375 42.890625 30.859375 \nQ 38.875 34.625 31.78125 34.625 \nz\nM 21.921875 38.8125 \nQ 15.578125 40.375 12.03125 44.71875 \nQ 8.5 49.078125 8.5 55.328125 \nQ 8.5 64.0625 14.71875 69.140625 \nQ 20.953125 74.21875 31.78125 74.21875 \nQ 42.671875 74.21875 48.875 69.140625 \nQ 55.078125 64.0625 55.078125 55.328125 \nQ 55.078125 49.078125 51.53125 44.71875 \nQ 48 40.375 41.703125 38.8125 \nQ 48.828125 37.15625 52.796875 32.3125 \nQ 56.78125 27.484375 56.78125 20.515625 \nQ 56.78125 9.90625 50.3125 4.234375 \nQ 43.84375 -1.421875 31.78125 -1.421875 \nQ 19.734375 -1.421875 13.25 4.234375 \nQ 6.78125 9.90625 6.78125 20.515625 \nQ 6.78125 27.484375 10.78125 32.3125 \nQ 14.796875 37.15625 21.921875 38.8125 \nz\nM 18.3125 54.390625 \nQ 18.3125 48.734375 21.84375 45.5625 \nQ 25.390625 42.390625 31.78125 42.390625 \nQ 38.140625 42.390625 41.71875 45.5625 \nQ 45.3125 48.734375 45.3125 54.390625 \nQ 45.3125 60.0625 41.71875 63.234375 \nQ 38.140625 66.40625 31.78125 66.40625 \nQ 25.390625 66.40625 21.84375 63.234375 \nQ 18.3125 60.0625 18.3125 54.390625 \nz\n\" id=\"DejaVuSans-56\"/>\n      </defs>\n      <g transform=\"translate(7.2 60.417401)scale(0.1 -0.1)\">\n       <use xlink:href=\"#DejaVuSans-48\"/>\n       <use x=\"63.623047\" xlink:href=\"#DejaVuSans-46\"/>\n       <use x=\"95.410156\" xlink:href=\"#DejaVuSans-56\"/>\n      </g>\n     </g>\n    </g>\n    <g id=\"ytick_6\">\n     <g id=\"line2d_7\">\n      <g>\n       <use style=\"stroke:#000000;stroke-width:0.8;\" x=\"30.103125\" xlink:href=\"#mdacd9e3973\" y=\"17.083636\"/>\n      </g>\n     </g>\n     <g id=\"text_7\">\n      <!-- 1.0 -->\n      <g transform=\"translate(7.2 20.882855)scale(0.1 -0.1)\">\n       <use xlink:href=\"#DejaVuSans-49\"/>\n       <use x=\"63.623047\" xlink:href=\"#DejaVuSans-46\"/>\n       <use x=\"95.410156\" xlink:href=\"#DejaVuSans-48\"/>\n      </g>\n     </g>\n    </g>\n   </g>\n   <g id=\"line2d_8\">\n    <path clip-path=\"url(#p30675fd556)\" d=\"M 172.393125 205.289417 \nL 222.613125 205.289417 \nL 222.613125 179.146504 \nL 172.393125 179.146504 \nL 172.393125 205.289417 \n\" style=\"fill:none;stroke:#000000;stroke-linecap:square;\"/>\n   </g>\n   <g id=\"line2d_9\">\n    <path clip-path=\"url(#p30675fd556)\" d=\"M 197.503125 205.289417 \nL 197.503125 214.756364 \n\" style=\"fill:none;stroke:#000000;stroke-linecap:square;\"/>\n   </g>\n   <g id=\"line2d_10\">\n    <path clip-path=\"url(#p30675fd556)\" d=\"M 197.503125 179.146504 \nL 197.503125 140.444222 \n\" style=\"fill:none;stroke:#000000;stroke-linecap:square;\"/>\n   </g>\n   <g id=\"line2d_11\">\n    <path clip-path=\"url(#p30675fd556)\" d=\"M 184.948125 214.756364 \nL 210.058125 214.756364 \n\" style=\"fill:none;stroke:#000000;stroke-linecap:square;\"/>\n   </g>\n   <g id=\"line2d_12\">\n    <path clip-path=\"url(#p30675fd556)\" d=\"M 184.948125 140.444222 \nL 210.058125 140.444222 \n\" style=\"fill:none;stroke:#000000;stroke-linecap:square;\"/>\n   </g>\n   <g id=\"line2d_13\">\n    <defs>\n     <path d=\"M 0 3 \nC 0.795609 3 1.55874 2.683901 2.12132 2.12132 \nC 2.683901 1.55874 3 0.795609 3 0 \nC 3 -0.795609 2.683901 -1.55874 2.12132 -2.12132 \nC 1.55874 -2.683901 0.795609 -3 0 -3 \nC -0.795609 -3 -1.55874 -2.683901 -2.12132 -2.12132 \nC -2.683901 -1.55874 -3 -0.795609 -3 0 \nC -3 0.795609 -2.683901 1.55874 -2.12132 2.12132 \nC -1.55874 2.683901 -0.795609 3 0 3 \nz\n\" id=\"mde54e9cd90\" style=\"stroke:#000000;\"/>\n    </defs>\n    <g clip-path=\"url(#p30675fd556)\">\n     <use style=\"fill-opacity:0;stroke:#000000;\" x=\"197.503125\" xlink:href=\"#mde54e9cd90\" y=\"129.288745\"/>\n     <use style=\"fill-opacity:0;stroke:#000000;\" x=\"197.503125\" xlink:href=\"#mde54e9cd90\" y=\"39.080098\"/>\n     <use style=\"fill-opacity:0;stroke:#000000;\" x=\"197.503125\" xlink:href=\"#mde54e9cd90\" y=\"116.234794\"/>\n     <use style=\"fill-opacity:0;stroke:#000000;\" x=\"197.503125\" xlink:href=\"#mde54e9cd90\" y=\"122.759191\"/>\n     <use style=\"fill-opacity:0;stroke:#000000;\" x=\"197.503125\" xlink:href=\"#mde54e9cd90\" y=\"114.671077\"/>\n     <use style=\"fill-opacity:0;stroke:#000000;\" x=\"197.503125\" xlink:href=\"#mde54e9cd90\" y=\"126.630954\"/>\n     <use style=\"fill-opacity:0;stroke:#000000;\" x=\"197.503125\" xlink:href=\"#mde54e9cd90\" y=\"138.790702\"/>\n     <use style=\"fill-opacity:0;stroke:#000000;\" x=\"197.503125\" xlink:href=\"#mde54e9cd90\" y=\"122.089798\"/>\n     <use style=\"fill-opacity:0;stroke:#000000;\" x=\"197.503125\" xlink:href=\"#mde54e9cd90\" y=\"126.630954\"/>\n     <use style=\"fill-opacity:0;stroke:#000000;\" x=\"197.503125\" xlink:href=\"#mde54e9cd90\" y=\"122.089798\"/>\n     <use style=\"fill-opacity:0;stroke:#000000;\" x=\"197.503125\" xlink:href=\"#mde54e9cd90\" y=\"119.796739\"/>\n     <use style=\"fill-opacity:0;stroke:#000000;\" x=\"197.503125\" xlink:href=\"#mde54e9cd90\" y=\"134.903952\"/>\n     <use style=\"fill-opacity:0;stroke:#000000;\" x=\"197.503125\" xlink:href=\"#mde54e9cd90\" y=\"131.366946\"/>\n     <use style=\"fill-opacity:0;stroke:#000000;\" x=\"197.503125\" xlink:href=\"#mde54e9cd90\" y=\"131.366946\"/>\n     <use style=\"fill-opacity:0;stroke:#000000;\" x=\"197.503125\" xlink:href=\"#mde54e9cd90\" y=\"39.080098\"/>\n     <use style=\"fill-opacity:0;stroke:#000000;\" x=\"197.503125\" xlink:href=\"#mde54e9cd90\" y=\"131.366946\"/>\n     <use style=\"fill-opacity:0;stroke:#000000;\" x=\"197.503125\" xlink:href=\"#mde54e9cd90\" y=\"78.941319\"/>\n     <use style=\"fill-opacity:0;stroke:#000000;\" x=\"197.503125\" xlink:href=\"#mde54e9cd90\" y=\"123.283747\"/>\n     <use style=\"fill-opacity:0;stroke:#000000;\" x=\"197.503125\" xlink:href=\"#mde54e9cd90\" y=\"106.847699\"/>\n     <use style=\"fill-opacity:0;stroke:#000000;\" x=\"197.503125\" xlink:href=\"#mde54e9cd90\" y=\"114.671077\"/>\n     <use style=\"fill-opacity:0;stroke:#000000;\" x=\"197.503125\" xlink:href=\"#mde54e9cd90\" y=\"106.847699\"/>\n     <use style=\"fill-opacity:0;stroke:#000000;\" x=\"197.503125\" xlink:href=\"#mde54e9cd90\" y=\"119.796739\"/>\n     <use style=\"fill-opacity:0;stroke:#000000;\" x=\"197.503125\" xlink:href=\"#mde54e9cd90\" y=\"111.044147\"/>\n     <use style=\"fill-opacity:0;stroke:#000000;\" x=\"197.503125\" xlink:href=\"#mde54e9cd90\" y=\"119.257195\"/>\n     <use style=\"fill-opacity:0;stroke:#000000;\" x=\"197.503125\" xlink:href=\"#mde54e9cd90\" y=\"30.757103\"/>\n     <use style=\"fill-opacity:0;stroke:#000000;\" x=\"197.503125\" xlink:href=\"#mde54e9cd90\" y=\"52.134049\"/>\n     <use style=\"fill-opacity:0;stroke:#000000;\" x=\"197.503125\" xlink:href=\"#mde54e9cd90\" y=\"121.285519\"/>\n     <use style=\"fill-opacity:0;stroke:#000000;\" x=\"197.503125\" xlink:href=\"#mde54e9cd90\" y=\"120.216383\"/>\n     <use style=\"fill-opacity:0;stroke:#000000;\" x=\"197.503125\" xlink:href=\"#mde54e9cd90\" y=\"105.553754\"/>\n     <use style=\"fill-opacity:0;stroke:#000000;\" x=\"197.503125\" xlink:href=\"#mde54e9cd90\" y=\"33.050162\"/>\n     <use style=\"fill-opacity:0;stroke:#000000;\" x=\"197.503125\" xlink:href=\"#mde54e9cd90\" y=\"33.050162\"/>\n     <use style=\"fill-opacity:0;stroke:#000000;\" x=\"197.503125\" xlink:href=\"#mde54e9cd90\" y=\"81.808932\"/>\n     <use style=\"fill-opacity:0;stroke:#000000;\" x=\"197.503125\" xlink:href=\"#mde54e9cd90\" y=\"84.186879\"/>\n     <use style=\"fill-opacity:0;stroke:#000000;\" x=\"197.503125\" xlink:href=\"#mde54e9cd90\" y=\"115.050796\"/>\n     <use style=\"fill-opacity:0;stroke:#000000;\" x=\"197.503125\" xlink:href=\"#mde54e9cd90\" y=\"17.083636\"/>\n     <use style=\"fill-opacity:0;stroke:#000000;\" x=\"197.503125\" xlink:href=\"#mde54e9cd90\" y=\"53.492859\"/>\n     <use style=\"fill-opacity:0;stroke:#000000;\" x=\"197.503125\" xlink:href=\"#mde54e9cd90\" y=\"131.366946\"/>\n     <use style=\"fill-opacity:0;stroke:#000000;\" x=\"197.503125\" xlink:href=\"#mde54e9cd90\" y=\"52.134049\"/>\n     <use style=\"fill-opacity:0;stroke:#000000;\" x=\"197.503125\" xlink:href=\"#mde54e9cd90\" y=\"30.757103\"/>\n     <use style=\"fill-opacity:0;stroke:#000000;\" x=\"197.503125\" xlink:href=\"#mde54e9cd90\" y=\"54.511997\"/>\n     <use style=\"fill-opacity:0;stroke:#000000;\" x=\"197.503125\" xlink:href=\"#mde54e9cd90\" y=\"134.903952\"/>\n     <use style=\"fill-opacity:0;stroke:#000000;\" x=\"197.503125\" xlink:href=\"#mde54e9cd90\" y=\"53.492859\"/>\n     <use style=\"fill-opacity:0;stroke:#000000;\" x=\"197.503125\" xlink:href=\"#mde54e9cd90\" y=\"124.53273\"/>\n     <use style=\"fill-opacity:0;stroke:#000000;\" x=\"197.503125\" xlink:href=\"#mde54e9cd90\" y=\"131.666692\"/>\n     <use style=\"fill-opacity:0;stroke:#000000;\" x=\"197.503125\" xlink:href=\"#mde54e9cd90\" y=\"52.134049\"/>\n     <use style=\"fill-opacity:0;stroke:#000000;\" x=\"197.503125\" xlink:href=\"#mde54e9cd90\" y=\"116.234794\"/>\n     <use style=\"fill-opacity:0;stroke:#000000;\" x=\"197.503125\" xlink:href=\"#mde54e9cd90\" y=\"126.630954\"/>\n     <use style=\"fill-opacity:0;stroke:#000000;\" x=\"197.503125\" xlink:href=\"#mde54e9cd90\" y=\"70.878144\"/>\n     <use style=\"fill-opacity:0;stroke:#000000;\" x=\"197.503125\" xlink:href=\"#mde54e9cd90\" y=\"78.941319\"/>\n     <use style=\"fill-opacity:0;stroke:#000000;\" x=\"197.503125\" xlink:href=\"#mde54e9cd90\" y=\"106.847699\"/>\n     <use style=\"fill-opacity:0;stroke:#000000;\" x=\"197.503125\" xlink:href=\"#mde54e9cd90\" y=\"70.878144\"/>\n     <use style=\"fill-opacity:0;stroke:#000000;\" x=\"197.503125\" xlink:href=\"#mde54e9cd90\" y=\"116.609476\"/>\n     <use style=\"fill-opacity:0;stroke:#000000;\" x=\"197.503125\" xlink:href=\"#mde54e9cd90\" y=\"107.92175\"/>\n     <use style=\"fill-opacity:0;stroke:#000000;\" x=\"197.503125\" xlink:href=\"#mde54e9cd90\" y=\"105.553754\"/>\n     <use style=\"fill-opacity:0;stroke:#000000;\" x=\"197.503125\" xlink:href=\"#mde54e9cd90\" y=\"106.847699\"/>\n     <use style=\"fill-opacity:0;stroke:#000000;\" x=\"197.503125\" xlink:href=\"#mde54e9cd90\" y=\"120.915752\"/>\n     <use style=\"fill-opacity:0;stroke:#000000;\" x=\"197.503125\" xlink:href=\"#mde54e9cd90\" y=\"33.050162\"/>\n     <use style=\"fill-opacity:0;stroke:#000000;\" x=\"197.503125\" xlink:href=\"#mde54e9cd90\" y=\"111.044147\"/>\n     <use style=\"fill-opacity:0;stroke:#000000;\" x=\"197.503125\" xlink:href=\"#mde54e9cd90\" y=\"84.186879\"/>\n     <use style=\"fill-opacity:0;stroke:#000000;\" x=\"197.503125\" xlink:href=\"#mde54e9cd90\" y=\"102.651251\"/>\n     <use style=\"fill-opacity:0;stroke:#000000;\" x=\"197.503125\" xlink:href=\"#mde54e9cd90\" y=\"87.154368\"/>\n     <use style=\"fill-opacity:0;stroke:#000000;\" x=\"197.503125\" xlink:href=\"#mde54e9cd90\" y=\"129.628417\"/>\n     <use style=\"fill-opacity:0;stroke:#000000;\" x=\"197.503125\" xlink:href=\"#mde54e9cd90\" y=\"87.154368\"/>\n     <use style=\"fill-opacity:0;stroke:#000000;\" x=\"197.503125\" xlink:href=\"#mde54e9cd90\" y=\"81.808932\"/>\n     <use style=\"fill-opacity:0;stroke:#000000;\" x=\"197.503125\" xlink:href=\"#mde54e9cd90\" y=\"119.257195\"/>\n     <use style=\"fill-opacity:0;stroke:#000000;\" x=\"197.503125\" xlink:href=\"#mde54e9cd90\" y=\"81.808932\"/>\n     <use style=\"fill-opacity:0;stroke:#000000;\" x=\"197.503125\" xlink:href=\"#mde54e9cd90\" y=\"119.257195\"/>\n     <use style=\"fill-opacity:0;stroke:#000000;\" x=\"197.503125\" xlink:href=\"#mde54e9cd90\" y=\"119.796739\"/>\n     <use style=\"fill-opacity:0;stroke:#000000;\" x=\"197.503125\" xlink:href=\"#mde54e9cd90\" y=\"120.915752\"/>\n     <use style=\"fill-opacity:0;stroke:#000000;\" x=\"197.503125\" xlink:href=\"#mde54e9cd90\" y=\"30.757103\"/>\n     <use style=\"fill-opacity:0;stroke:#000000;\" x=\"197.503125\" xlink:href=\"#mde54e9cd90\" y=\"136.822328\"/>\n     <use style=\"fill-opacity:0;stroke:#000000;\" x=\"197.503125\" xlink:href=\"#mde54e9cd90\" y=\"121.285519\"/>\n     <use style=\"fill-opacity:0;stroke:#000000;\" x=\"197.503125\" xlink:href=\"#mde54e9cd90\" y=\"131.666692\"/>\n     <use style=\"fill-opacity:0;stroke:#000000;\" x=\"197.503125\" xlink:href=\"#mde54e9cd90\" y=\"122.759191\"/>\n     <use style=\"fill-opacity:0;stroke:#000000;\" x=\"197.503125\" xlink:href=\"#mde54e9cd90\" y=\"126.630954\"/>\n     <use style=\"fill-opacity:0;stroke:#000000;\" x=\"197.503125\" xlink:href=\"#mde54e9cd90\" y=\"78.941319\"/>\n     <use style=\"fill-opacity:0;stroke:#000000;\" x=\"197.503125\" xlink:href=\"#mde54e9cd90\" y=\"54.511997\"/>\n     <use style=\"fill-opacity:0;stroke:#000000;\" x=\"197.503125\" xlink:href=\"#mde54e9cd90\" y=\"126.630954\"/>\n     <use style=\"fill-opacity:0;stroke:#000000;\" x=\"197.503125\" xlink:href=\"#mde54e9cd90\" y=\"122.759191\"/>\n     <use style=\"fill-opacity:0;stroke:#000000;\" x=\"197.503125\" xlink:href=\"#mde54e9cd90\" y=\"81.808932\"/>\n     <use style=\"fill-opacity:0;stroke:#000000;\" x=\"197.503125\" xlink:href=\"#mde54e9cd90\" y=\"33.050162\"/>\n     <use style=\"fill-opacity:0;stroke:#000000;\" x=\"197.503125\" xlink:href=\"#mde54e9cd90\" y=\"120.216383\"/>\n     <use style=\"fill-opacity:0;stroke:#000000;\" x=\"197.503125\" xlink:href=\"#mde54e9cd90\" y=\"136.822328\"/>\n     <use style=\"fill-opacity:0;stroke:#000000;\" x=\"197.503125\" xlink:href=\"#mde54e9cd90\" y=\"111.044147\"/>\n     <use style=\"fill-opacity:0;stroke:#000000;\" x=\"197.503125\" xlink:href=\"#mde54e9cd90\" y=\"70.878144\"/>\n     <use style=\"fill-opacity:0;stroke:#000000;\" x=\"197.503125\" xlink:href=\"#mde54e9cd90\" y=\"121.285519\"/>\n     <use style=\"fill-opacity:0;stroke:#000000;\" x=\"197.503125\" xlink:href=\"#mde54e9cd90\" y=\"119.796739\"/>\n     <use style=\"fill-opacity:0;stroke:#000000;\" x=\"197.503125\" xlink:href=\"#mde54e9cd90\" y=\"131.366946\"/>\n     <use style=\"fill-opacity:0;stroke:#000000;\" x=\"197.503125\" xlink:href=\"#mde54e9cd90\" y=\"70.878144\"/>\n     <use style=\"fill-opacity:0;stroke:#000000;\" x=\"197.503125\" xlink:href=\"#mde54e9cd90\" y=\"102.651251\"/>\n     <use style=\"fill-opacity:0;stroke:#000000;\" x=\"197.503125\" xlink:href=\"#mde54e9cd90\" y=\"115.050796\"/>\n     <use style=\"fill-opacity:0;stroke:#000000;\" x=\"197.503125\" xlink:href=\"#mde54e9cd90\" y=\"131.366946\"/>\n     <use style=\"fill-opacity:0;stroke:#000000;\" x=\"197.503125\" xlink:href=\"#mde54e9cd90\" y=\"107.92175\"/>\n     <use style=\"fill-opacity:0;stroke:#000000;\" x=\"197.503125\" xlink:href=\"#mde54e9cd90\" y=\"17.083636\"/>\n     <use style=\"fill-opacity:0;stroke:#000000;\" x=\"197.503125\" xlink:href=\"#mde54e9cd90\" y=\"131.366946\"/>\n     <use style=\"fill-opacity:0;stroke:#000000;\" x=\"197.503125\" xlink:href=\"#mde54e9cd90\" y=\"115.050796\"/>\n    </g>\n   </g>\n   <g id=\"line2d_14\">\n    <path clip-path=\"url(#p30675fd556)\" d=\"M 172.393125 198.180394 \nL 222.613125 198.180394 \n\" style=\"fill:none;stroke:#ff7f0e;stroke-linecap:square;\"/>\n   </g>\n   <g id=\"patch_3\">\n    <path d=\"M 30.103125 224.64 \nL 30.103125 7.2 \n\" style=\"fill:none;stroke:#000000;stroke-linecap:square;stroke-linejoin:miter;stroke-width:0.8;\"/>\n   </g>\n   <g id=\"patch_4\">\n    <path d=\"M 364.903125 224.64 \nL 364.903125 7.2 \n\" style=\"fill:none;stroke:#000000;stroke-linecap:square;stroke-linejoin:miter;stroke-width:0.8;\"/>\n   </g>\n   <g id=\"patch_5\">\n    <path d=\"M 30.103125 224.64 \nL 364.903125 224.64 \n\" style=\"fill:none;stroke:#000000;stroke-linecap:square;stroke-linejoin:miter;stroke-width:0.8;\"/>\n   </g>\n   <g id=\"patch_6\">\n    <path d=\"M 30.103125 7.2 \nL 364.903125 7.2 \n\" style=\"fill:none;stroke:#000000;stroke-linecap:square;stroke-linejoin:miter;stroke-width:0.8;\"/>\n   </g>\n  </g>\n </g>\n <defs>\n  <clipPath id=\"p30675fd556\">\n   <rect height=\"217.44\" width=\"334.8\" x=\"30.103125\" y=\"7.2\"/>\n  </clipPath>\n </defs>\n</svg>\n",
      "image/png": "[encoded data removed]"
     },
     "metadata": {
      "needs_background": "light"
     }
    }
   ],
   "source": [
    "import matplotlib.pyplot as plt\n",
    "plt.boxplot(X['fare']); plt.show()"
   ]
  },
  {
   "cell_type": "code",
   "execution_count": 28,
   "metadata": {},
   "outputs": [
    {
     "output_type": "execute_result",
     "data": {
      "text/plain": "0.6935255129191842"
     },
     "metadata": {},
     "execution_count": 28
    }
   ],
   "source": [
    "# fare outliers\n",
    "max_fare = X['fare'].mean() + 3 * X['fare'].std(); max_fare"
   ]
  },
  {
   "cell_type": "code",
   "execution_count": 29,
   "metadata": {},
   "outputs": [
    {
     "output_type": "execute_result",
     "data": {
      "text/plain": "(840, 6)"
     },
     "metadata": {},
     "execution_count": 29
    }
   ],
   "source": [
    "X = X[X['fare'] <= max_fare]\n",
    "X.shape"
   ]
  },
  {
   "cell_type": "code",
   "execution_count": 30,
   "metadata": {},
   "outputs": [
    {
     "output_type": "execute_result",
     "data": {
      "text/plain": "1.845206815321035"
     },
     "metadata": {},
     "execution_count": 30
    }
   ],
   "source": [
    "X['fare'].skew()"
   ]
  },
  {
   "cell_type": "code",
   "execution_count": 31,
   "metadata": {},
   "outputs": [
    {
     "output_type": "display_data",
     "data": {
      "text/plain": "<Figure size 432x288 with 1 Axes>",
      "image/svg+xml": "<?xml version=\"1.0\" encoding=\"utf-8\" standalone=\"no\"?>\n<!DOCTYPE svg PUBLIC \"-//W3C//DTD SVG 1.1//EN\"\n  \"http://www.w3.org/Graphics/SVG/1.1/DTD/svg11.dtd\">\n<!-- Created with matplotlib (https://matplotlib.org/) -->\n<svg height=\"248.518125pt\" version=\"1.1\" viewBox=\"0 0 372.103125 248.518125\" width=\"372.103125pt\" xmlns=\"http://www.w3.org/2000/svg\" xmlns:xlink=\"http://www.w3.org/1999/xlink\">\n <defs>\n  <style type=\"text/css\">\n*{stroke-linecap:butt;stroke-linejoin:round;}\n  </style>\n </defs>\n <g id=\"figure_1\">\n  <g id=\"patch_1\">\n   <path d=\"M 0 248.518125 \nL 372.103125 248.518125 \nL 372.103125 0 \nL 0 0 \nz\n\" style=\"fill:none;\"/>\n  </g>\n  <g id=\"axes_1\">\n   <g id=\"patch_2\">\n    <path d=\"M 30.103125 224.64 \nL 364.903125 224.64 \nL 364.903125 7.2 \nL 30.103125 7.2 \nz\n\" style=\"fill:#ffffff;\"/>\n   </g>\n   <g id=\"matplotlib.axis_1\">\n    <g id=\"xtick_1\">\n     <g id=\"line2d_1\">\n      <defs>\n       <path d=\"M 0 0 \nL 0 3.5 \n\" id=\"m791ab00f15\" style=\"stroke:#000000;stroke-width:0.8;\"/>\n      </defs>\n      <g>\n       <use style=\"stroke:#000000;stroke-width:0.8;\" x=\"197.503125\" xlink:href=\"#m791ab00f15\" y=\"224.64\"/>\n      </g>\n     </g>\n     <g id=\"text_1\">\n      <!-- 1 -->\n      <defs>\n       <path d=\"M 12.40625 8.296875 \nL 28.515625 8.296875 \nL 28.515625 63.921875 \nL 10.984375 60.40625 \nL 10.984375 69.390625 \nL 28.421875 72.90625 \nL 38.28125 72.90625 \nL 38.28125 8.296875 \nL 54.390625 8.296875 \nL 54.390625 0 \nL 12.40625 0 \nz\n\" id=\"DejaVuSans-49\"/>\n      </defs>\n      <g transform=\"translate(194.321875 239.238437)scale(0.1 -0.1)\">\n       <use xlink:href=\"#DejaVuSans-49\"/>\n      </g>\n     </g>\n    </g>\n   </g>\n   <g id=\"matplotlib.axis_2\">\n    <g id=\"ytick_1\">\n     <g id=\"line2d_2\">\n      <defs>\n       <path d=\"M 0 0 \nL -3.5 0 \n\" id=\"m4f0d8531b6\" style=\"stroke:#000000;stroke-width:0.8;\"/>\n      </defs>\n      <g>\n       <use style=\"stroke:#000000;stroke-width:0.8;\" x=\"30.103125\" xlink:href=\"#m4f0d8531b6\" y=\"214.756364\"/>\n      </g>\n     </g>\n     <g id=\"text_2\">\n      <!-- 0.0 -->\n      <defs>\n       <path d=\"M 31.78125 66.40625 \nQ 24.171875 66.40625 20.328125 58.90625 \nQ 16.5 51.421875 16.5 36.375 \nQ 16.5 21.390625 20.328125 13.890625 \nQ 24.171875 6.390625 31.78125 6.390625 \nQ 39.453125 6.390625 43.28125 13.890625 \nQ 47.125 21.390625 47.125 36.375 \nQ 47.125 51.421875 43.28125 58.90625 \nQ 39.453125 66.40625 31.78125 66.40625 \nz\nM 31.78125 74.21875 \nQ 44.046875 74.21875 50.515625 64.515625 \nQ 56.984375 54.828125 56.984375 36.375 \nQ 56.984375 17.96875 50.515625 8.265625 \nQ 44.046875 -1.421875 31.78125 -1.421875 \nQ 19.53125 -1.421875 13.0625 8.265625 \nQ 6.59375 17.96875 6.59375 36.375 \nQ 6.59375 54.828125 13.0625 64.515625 \nQ 19.53125 74.21875 31.78125 74.21875 \nz\n\" id=\"DejaVuSans-48\"/>\n       <path d=\"M 10.6875 12.40625 \nL 21 12.40625 \nL 21 0 \nL 10.6875 0 \nz\n\" id=\"DejaVuSans-46\"/>\n      </defs>\n      <g transform=\"translate(7.2 218.555582)scale(0.1 -0.1)\">\n       <use xlink:href=\"#DejaVuSans-48\"/>\n       <use x=\"63.623047\" xlink:href=\"#DejaVuSans-46\"/>\n       <use x=\"95.410156\" xlink:href=\"#DejaVuSans-48\"/>\n      </g>\n     </g>\n    </g>\n    <g id=\"ytick_2\">\n     <g id=\"line2d_3\">\n      <g>\n       <use style=\"stroke:#000000;stroke-width:0.8;\" x=\"30.103125\" xlink:href=\"#m4f0d8531b6\" y=\"175.221818\"/>\n      </g>\n     </g>\n     <g id=\"text_3\">\n      <!-- 0.2 -->\n      <defs>\n       <path d=\"M 19.1875 8.296875 \nL 53.609375 8.296875 \nL 53.609375 0 \nL 7.328125 0 \nL 7.328125 8.296875 \nQ 12.9375 14.109375 22.625 23.890625 \nQ 32.328125 33.6875 34.8125 36.53125 \nQ 39.546875 41.84375 41.421875 45.53125 \nQ 43.3125 49.21875 43.3125 52.78125 \nQ 43.3125 58.59375 39.234375 62.25 \nQ 35.15625 65.921875 28.609375 65.921875 \nQ 23.96875 65.921875 18.8125 64.3125 \nQ 13.671875 62.703125 7.8125 59.421875 \nL 7.8125 69.390625 \nQ 13.765625 71.78125 18.9375 73 \nQ 24.125 74.21875 28.421875 74.21875 \nQ 39.75 74.21875 46.484375 68.546875 \nQ 53.21875 62.890625 53.21875 53.421875 \nQ 53.21875 48.921875 51.53125 44.890625 \nQ 49.859375 40.875 45.40625 35.40625 \nQ 44.1875 33.984375 37.640625 27.21875 \nQ 31.109375 20.453125 19.1875 8.296875 \nz\n\" id=\"DejaVuSans-50\"/>\n      </defs>\n      <g transform=\"translate(7.2 179.021037)scale(0.1 -0.1)\">\n       <use xlink:href=\"#DejaVuSans-48\"/>\n       <use x=\"63.623047\" xlink:href=\"#DejaVuSans-46\"/>\n       <use x=\"95.410156\" xlink:href=\"#DejaVuSans-50\"/>\n      </g>\n     </g>\n    </g>\n    <g id=\"ytick_3\">\n     <g id=\"line2d_4\">\n      <g>\n       <use style=\"stroke:#000000;stroke-width:0.8;\" x=\"30.103125\" xlink:href=\"#m4f0d8531b6\" y=\"135.687273\"/>\n      </g>\n     </g>\n     <g id=\"text_4\">\n      <!-- 0.4 -->\n      <defs>\n       <path d=\"M 37.796875 64.3125 \nL 12.890625 25.390625 \nL 37.796875 25.390625 \nz\nM 35.203125 72.90625 \nL 47.609375 72.90625 \nL 47.609375 25.390625 \nL 58.015625 25.390625 \nL 58.015625 17.1875 \nL 47.609375 17.1875 \nL 47.609375 0 \nL 37.796875 0 \nL 37.796875 17.1875 \nL 4.890625 17.1875 \nL 4.890625 26.703125 \nz\n\" id=\"DejaVuSans-52\"/>\n      </defs>\n      <g transform=\"translate(7.2 139.486491)scale(0.1 -0.1)\">\n       <use xlink:href=\"#DejaVuSans-48\"/>\n       <use x=\"63.623047\" xlink:href=\"#DejaVuSans-46\"/>\n       <use x=\"95.410156\" xlink:href=\"#DejaVuSans-52\"/>\n      </g>\n     </g>\n    </g>\n    <g id=\"ytick_4\">\n     <g id=\"line2d_5\">\n      <g>\n       <use style=\"stroke:#000000;stroke-width:0.8;\" x=\"30.103125\" xlink:href=\"#m4f0d8531b6\" y=\"96.152727\"/>\n      </g>\n     </g>\n     <g id=\"text_5\">\n      <!-- 0.6 -->\n      <defs>\n       <path d=\"M 33.015625 40.375 \nQ 26.375 40.375 22.484375 35.828125 \nQ 18.609375 31.296875 18.609375 23.390625 \nQ 18.609375 15.53125 22.484375 10.953125 \nQ 26.375 6.390625 33.015625 6.390625 \nQ 39.65625 6.390625 43.53125 10.953125 \nQ 47.40625 15.53125 47.40625 23.390625 \nQ 47.40625 31.296875 43.53125 35.828125 \nQ 39.65625 40.375 33.015625 40.375 \nz\nM 52.59375 71.296875 \nL 52.59375 62.3125 \nQ 48.875 64.0625 45.09375 64.984375 \nQ 41.3125 65.921875 37.59375 65.921875 \nQ 27.828125 65.921875 22.671875 59.328125 \nQ 17.53125 52.734375 16.796875 39.40625 \nQ 19.671875 43.65625 24.015625 45.921875 \nQ 28.375 48.1875 33.59375 48.1875 \nQ 44.578125 48.1875 50.953125 41.515625 \nQ 57.328125 34.859375 57.328125 23.390625 \nQ 57.328125 12.15625 50.6875 5.359375 \nQ 44.046875 -1.421875 33.015625 -1.421875 \nQ 20.359375 -1.421875 13.671875 8.265625 \nQ 6.984375 17.96875 6.984375 36.375 \nQ 6.984375 53.65625 15.1875 63.9375 \nQ 23.390625 74.21875 37.203125 74.21875 \nQ 40.921875 74.21875 44.703125 73.484375 \nQ 48.484375 72.75 52.59375 71.296875 \nz\n\" id=\"DejaVuSans-54\"/>\n      </defs>\n      <g transform=\"translate(7.2 99.951946)scale(0.1 -0.1)\">\n       <use xlink:href=\"#DejaVuSans-48\"/>\n       <use x=\"63.623047\" xlink:href=\"#DejaVuSans-46\"/>\n       <use x=\"95.410156\" xlink:href=\"#DejaVuSans-54\"/>\n      </g>\n     </g>\n    </g>\n    <g id=\"ytick_5\">\n     <g id=\"line2d_6\">\n      <g>\n       <use style=\"stroke:#000000;stroke-width:0.8;\" x=\"30.103125\" xlink:href=\"#m4f0d8531b6\" y=\"56.618182\"/>\n      </g>\n     </g>\n     <g id=\"text_6\">\n      <!-- 0.8 -->\n      <defs>\n       <path d=\"M 31.78125 34.625 \nQ 24.75 34.625 20.71875 30.859375 \nQ 16.703125 27.09375 16.703125 20.515625 \nQ 16.703125 13.921875 20.71875 10.15625 \nQ 24.75 6.390625 31.78125 6.390625 \nQ 38.8125 6.390625 42.859375 10.171875 \nQ 46.921875 13.96875 46.921875 20.515625 \nQ 46.921875 27.09375 42.890625 30.859375 \nQ 38.875 34.625 31.78125 34.625 \nz\nM 21.921875 38.8125 \nQ 15.578125 40.375 12.03125 44.71875 \nQ 8.5 49.078125 8.5 55.328125 \nQ 8.5 64.0625 14.71875 69.140625 \nQ 20.953125 74.21875 31.78125 74.21875 \nQ 42.671875 74.21875 48.875 69.140625 \nQ 55.078125 64.0625 55.078125 55.328125 \nQ 55.078125 49.078125 51.53125 44.71875 \nQ 48 40.375 41.703125 38.8125 \nQ 48.828125 37.15625 52.796875 32.3125 \nQ 56.78125 27.484375 56.78125 20.515625 \nQ 56.78125 9.90625 50.3125 4.234375 \nQ 43.84375 -1.421875 31.78125 -1.421875 \nQ 19.734375 -1.421875 13.25 4.234375 \nQ 6.78125 9.90625 6.78125 20.515625 \nQ 6.78125 27.484375 10.78125 32.3125 \nQ 14.796875 37.15625 21.921875 38.8125 \nz\nM 18.3125 54.390625 \nQ 18.3125 48.734375 21.84375 45.5625 \nQ 25.390625 42.390625 31.78125 42.390625 \nQ 38.140625 42.390625 41.71875 45.5625 \nQ 45.3125 48.734375 45.3125 54.390625 \nQ 45.3125 60.0625 41.71875 63.234375 \nQ 38.140625 66.40625 31.78125 66.40625 \nQ 25.390625 66.40625 21.84375 63.234375 \nQ 18.3125 60.0625 18.3125 54.390625 \nz\n\" id=\"DejaVuSans-56\"/>\n      </defs>\n      <g transform=\"translate(7.2 60.417401)scale(0.1 -0.1)\">\n       <use xlink:href=\"#DejaVuSans-48\"/>\n       <use x=\"63.623047\" xlink:href=\"#DejaVuSans-46\"/>\n       <use x=\"95.410156\" xlink:href=\"#DejaVuSans-56\"/>\n      </g>\n     </g>\n    </g>\n    <g id=\"ytick_6\">\n     <g id=\"line2d_7\">\n      <g>\n       <use style=\"stroke:#000000;stroke-width:0.8;\" x=\"30.103125\" xlink:href=\"#m4f0d8531b6\" y=\"17.083636\"/>\n      </g>\n     </g>\n     <g id=\"text_7\">\n      <!-- 1.0 -->\n      <g transform=\"translate(7.2 20.882855)scale(0.1 -0.1)\">\n       <use xlink:href=\"#DejaVuSans-49\"/>\n       <use x=\"63.623047\" xlink:href=\"#DejaVuSans-46\"/>\n       <use x=\"95.410156\" xlink:href=\"#DejaVuSans-48\"/>\n      </g>\n     </g>\n    </g>\n   </g>\n   <g id=\"line2d_8\">\n    <path clip-path=\"url(#p3fba691164)\" d=\"M 172.393125 149.709437 \nL 222.613125 149.709437 \nL 222.613125 113.538764 \nL 172.393125 113.538764 \nL 172.393125 149.709437 \n\" style=\"fill:none;stroke:#000000;stroke-linecap:square;\"/>\n   </g>\n   <g id=\"line2d_9\">\n    <path clip-path=\"url(#p3fba691164)\" d=\"M 197.503125 149.709437 \nL 197.503125 203.965446 \n\" style=\"fill:none;stroke:#000000;stroke-linecap:square;\"/>\n   </g>\n   <g id=\"line2d_10\">\n    <path clip-path=\"url(#p3fba691164)\" d=\"M 197.503125 113.538764 \nL 197.503125 59.282755 \n\" style=\"fill:none;stroke:#000000;stroke-linecap:square;\"/>\n   </g>\n   <g id=\"line2d_11\">\n    <path clip-path=\"url(#p3fba691164)\" d=\"M 184.948125 203.965446 \nL 210.058125 203.965446 \n\" style=\"fill:none;stroke:#000000;stroke-linecap:square;\"/>\n   </g>\n   <g id=\"line2d_12\">\n    <path clip-path=\"url(#p3fba691164)\" d=\"M 184.948125 59.282755 \nL 210.058125 59.282755 \n\" style=\"fill:none;stroke:#000000;stroke-linecap:square;\"/>\n   </g>\n   <g id=\"line2d_13\">\n    <defs>\n     <path d=\"M 0 3 \nC 0.795609 3 1.55874 2.683901 2.12132 2.12132 \nC 2.683901 1.55874 3 0.795609 3 0 \nC 3 -0.795609 2.683901 -1.55874 2.12132 -2.12132 \nC 1.55874 -2.683901 0.795609 -3 0 -3 \nC -0.795609 -3 -1.55874 -2.683901 -2.12132 -2.12132 \nC -2.683901 -1.55874 -3 -0.795609 -3 0 \nC -3 0.795609 -2.683901 1.55874 -2.12132 2.12132 \nC -1.55874 2.683901 -0.795609 3 0 3 \nz\n\" id=\"m120c83e76c\" style=\"stroke:#000000;\"/>\n    </defs>\n    <g clip-path=\"url(#p3fba691164)\">\n     <use style=\"fill-opacity:0;stroke:#000000;\" x=\"197.503125\" xlink:href=\"#m120c83e76c\" y=\"209.993892\"/>\n     <use style=\"fill-opacity:0;stroke:#000000;\" x=\"197.503125\" xlink:href=\"#m120c83e76c\" y=\"209.993892\"/>\n     <use style=\"fill-opacity:0;stroke:#000000;\" x=\"197.503125\" xlink:href=\"#m120c83e76c\" y=\"206.979669\"/>\n     <use style=\"fill-opacity:0;stroke:#000000;\" x=\"197.503125\" xlink:href=\"#m120c83e76c\" y=\"213.520532\"/>\n     <use style=\"fill-opacity:0;stroke:#000000;\" x=\"197.503125\" xlink:href=\"#m120c83e76c\" y=\"209.993892\"/>\n     <use style=\"fill-opacity:0;stroke:#000000;\" x=\"197.503125\" xlink:href=\"#m120c83e76c\" y=\"213.008114\"/>\n     <use style=\"fill-opacity:0;stroke:#000000;\" x=\"197.503125\" xlink:href=\"#m120c83e76c\" y=\"213.008114\"/>\n     <use style=\"fill-opacity:0;stroke:#000000;\" x=\"197.503125\" xlink:href=\"#m120c83e76c\" y=\"213.008114\"/>\n     <use style=\"fill-opacity:0;stroke:#000000;\" x=\"197.503125\" xlink:href=\"#m120c83e76c\" y=\"206.979669\"/>\n     <use style=\"fill-opacity:0;stroke:#000000;\" x=\"197.503125\" xlink:href=\"#m120c83e76c\" y=\"209.993892\"/>\n     <use style=\"fill-opacity:0;stroke:#000000;\" x=\"197.503125\" xlink:href=\"#m120c83e76c\" y=\"206.979669\"/>\n     <use style=\"fill-opacity:0;stroke:#000000;\" x=\"197.503125\" xlink:href=\"#m120c83e76c\" y=\"209.993892\"/>\n     <use style=\"fill-opacity:0;stroke:#000000;\" x=\"197.503125\" xlink:href=\"#m120c83e76c\" y=\"206.979669\"/>\n     <use style=\"fill-opacity:0;stroke:#000000;\" x=\"197.503125\" xlink:href=\"#m120c83e76c\" y=\"206.979669\"/>\n     <use style=\"fill-opacity:0;stroke:#000000;\" x=\"197.503125\" xlink:href=\"#m120c83e76c\" y=\"213.008114\"/>\n     <use style=\"fill-opacity:0;stroke:#000000;\" x=\"197.503125\" xlink:href=\"#m120c83e76c\" y=\"213.008114\"/>\n     <use style=\"fill-opacity:0;stroke:#000000;\" x=\"197.503125\" xlink:href=\"#m120c83e76c\" y=\"206.979669\"/>\n     <use style=\"fill-opacity:0;stroke:#000000;\" x=\"197.503125\" xlink:href=\"#m120c83e76c\" y=\"213.76167\"/>\n     <use style=\"fill-opacity:0;stroke:#000000;\" x=\"197.503125\" xlink:href=\"#m120c83e76c\" y=\"209.993892\"/>\n     <use style=\"fill-opacity:0;stroke:#000000;\" x=\"197.503125\" xlink:href=\"#m120c83e76c\" y=\"209.993892\"/>\n     <use style=\"fill-opacity:0;stroke:#000000;\" x=\"197.503125\" xlink:href=\"#m120c83e76c\" y=\"209.993892\"/>\n     <use style=\"fill-opacity:0;stroke:#000000;\" x=\"197.503125\" xlink:href=\"#m120c83e76c\" y=\"213.76167\"/>\n     <use style=\"fill-opacity:0;stroke:#000000;\" x=\"197.503125\" xlink:href=\"#m120c83e76c\" y=\"214.002808\"/>\n     <use style=\"fill-opacity:0;stroke:#000000;\" x=\"197.503125\" xlink:href=\"#m120c83e76c\" y=\"213.008114\"/>\n     <use style=\"fill-opacity:0;stroke:#000000;\" x=\"197.503125\" xlink:href=\"#m120c83e76c\" y=\"214.756364\"/>\n     <use style=\"fill-opacity:0;stroke:#000000;\" x=\"197.503125\" xlink:href=\"#m120c83e76c\" y=\"209.993892\"/>\n     <use style=\"fill-opacity:0;stroke:#000000;\" x=\"197.503125\" xlink:href=\"#m120c83e76c\" y=\"213.008114\"/>\n     <use style=\"fill-opacity:0;stroke:#000000;\" x=\"197.503125\" xlink:href=\"#m120c83e76c\" y=\"213.520532\"/>\n     <use style=\"fill-opacity:0;stroke:#000000;\" x=\"197.503125\" xlink:href=\"#m120c83e76c\" y=\"53.254309\"/>\n     <use style=\"fill-opacity:0;stroke:#000000;\" x=\"197.503125\" xlink:href=\"#m120c83e76c\" y=\"41.197418\"/>\n     <use style=\"fill-opacity:0;stroke:#000000;\" x=\"197.503125\" xlink:href=\"#m120c83e76c\" y=\"50.240087\"/>\n     <use style=\"fill-opacity:0;stroke:#000000;\" x=\"197.503125\" xlink:href=\"#m120c83e76c\" y=\"17.083636\"/>\n     <use style=\"fill-opacity:0;stroke:#000000;\" x=\"197.503125\" xlink:href=\"#m120c83e76c\" y=\"20.097859\"/>\n     <use style=\"fill-opacity:0;stroke:#000000;\" x=\"197.503125\" xlink:href=\"#m120c83e76c\" y=\"38.183196\"/>\n     <use style=\"fill-opacity:0;stroke:#000000;\" x=\"197.503125\" xlink:href=\"#m120c83e76c\" y=\"53.254309\"/>\n     <use style=\"fill-opacity:0;stroke:#000000;\" x=\"197.503125\" xlink:href=\"#m120c83e76c\" y=\"48.732975\"/>\n     <use style=\"fill-opacity:0;stroke:#000000;\" x=\"197.503125\" xlink:href=\"#m120c83e76c\" y=\"32.15475\"/>\n     <use style=\"fill-opacity:0;stroke:#000000;\" x=\"197.503125\" xlink:href=\"#m120c83e76c\" y=\"47.225864\"/>\n     <use style=\"fill-opacity:0;stroke:#000000;\" x=\"197.503125\" xlink:href=\"#m120c83e76c\" y=\"38.183196\"/>\n     <use style=\"fill-opacity:0;stroke:#000000;\" x=\"197.503125\" xlink:href=\"#m120c83e76c\" y=\"53.254309\"/>\n     <use style=\"fill-opacity:0;stroke:#000000;\" x=\"197.503125\" xlink:href=\"#m120c83e76c\" y=\"29.140527\"/>\n     <use style=\"fill-opacity:0;stroke:#000000;\" x=\"197.503125\" xlink:href=\"#m120c83e76c\" y=\"26.126305\"/>\n     <use style=\"fill-opacity:0;stroke:#000000;\" x=\"197.503125\" xlink:href=\"#m120c83e76c\" y=\"20.097859\"/>\n     <use style=\"fill-opacity:0;stroke:#000000;\" x=\"197.503125\" xlink:href=\"#m120c83e76c\" y=\"53.254309\"/>\n     <use style=\"fill-opacity:0;stroke:#000000;\" x=\"197.503125\" xlink:href=\"#m120c83e76c\" y=\"32.15475\"/>\n     <use style=\"fill-opacity:0;stroke:#000000;\" x=\"197.503125\" xlink:href=\"#m120c83e76c\" y=\"35.168973\"/>\n     <use style=\"fill-opacity:0;stroke:#000000;\" x=\"197.503125\" xlink:href=\"#m120c83e76c\" y=\"20.097859\"/>\n     <use style=\"fill-opacity:0;stroke:#000000;\" x=\"197.503125\" xlink:href=\"#m120c83e76c\" y=\"47.225864\"/>\n     <use style=\"fill-opacity:0;stroke:#000000;\" x=\"197.503125\" xlink:href=\"#m120c83e76c\" y=\"26.126305\"/>\n     <use style=\"fill-opacity:0;stroke:#000000;\" x=\"197.503125\" xlink:href=\"#m120c83e76c\" y=\"41.197418\"/>\n     <use style=\"fill-opacity:0;stroke:#000000;\" x=\"197.503125\" xlink:href=\"#m120c83e76c\" y=\"50.240087\"/>\n     <use style=\"fill-opacity:0;stroke:#000000;\" x=\"197.503125\" xlink:href=\"#m120c83e76c\" y=\"53.254309\"/>\n     <use style=\"fill-opacity:0;stroke:#000000;\" x=\"197.503125\" xlink:href=\"#m120c83e76c\" y=\"53.254309\"/>\n     <use style=\"fill-opacity:0;stroke:#000000;\" x=\"197.503125\" xlink:href=\"#m120c83e76c\" y=\"23.112082\"/>\n     <use style=\"fill-opacity:0;stroke:#000000;\" x=\"197.503125\" xlink:href=\"#m120c83e76c\" y=\"29.140527\"/>\n     <use style=\"fill-opacity:0;stroke:#000000;\" x=\"197.503125\" xlink:href=\"#m120c83e76c\" y=\"29.140527\"/>\n     <use style=\"fill-opacity:0;stroke:#000000;\" x=\"197.503125\" xlink:href=\"#m120c83e76c\" y=\"56.268532\"/>\n     <use style=\"fill-opacity:0;stroke:#000000;\" x=\"197.503125\" xlink:href=\"#m120c83e76c\" y=\"53.254309\"/>\n     <use style=\"fill-opacity:0;stroke:#000000;\" x=\"197.503125\" xlink:href=\"#m120c83e76c\" y=\"35.168973\"/>\n     <use style=\"fill-opacity:0;stroke:#000000;\" x=\"197.503125\" xlink:href=\"#m120c83e76c\" y=\"32.15475\"/>\n     <use style=\"fill-opacity:0;stroke:#000000;\" x=\"197.503125\" xlink:href=\"#m120c83e76c\" y=\"44.211641\"/>\n     <use style=\"fill-opacity:0;stroke:#000000;\" x=\"197.503125\" xlink:href=\"#m120c83e76c\" y=\"47.225864\"/>\n     <use style=\"fill-opacity:0;stroke:#000000;\" x=\"197.503125\" xlink:href=\"#m120c83e76c\" y=\"41.197418\"/>\n     <use style=\"fill-opacity:0;stroke:#000000;\" x=\"197.503125\" xlink:href=\"#m120c83e76c\" y=\"35.168973\"/>\n     <use style=\"fill-opacity:0;stroke:#000000;\" x=\"197.503125\" xlink:href=\"#m120c83e76c\" y=\"35.168973\"/>\n     <use style=\"fill-opacity:0;stroke:#000000;\" x=\"197.503125\" xlink:href=\"#m120c83e76c\" y=\"44.211641\"/>\n     <use style=\"fill-opacity:0;stroke:#000000;\" x=\"197.503125\" xlink:href=\"#m120c83e76c\" y=\"53.254309\"/>\n     <use style=\"fill-opacity:0;stroke:#000000;\" x=\"197.503125\" xlink:href=\"#m120c83e76c\" y=\"47.225864\"/>\n    </g>\n   </g>\n   <g id=\"line2d_14\">\n    <path clip-path=\"url(#p3fba691164)\" d=\"M 172.393125 125.595655 \nL 222.613125 125.595655 \n\" style=\"fill:none;stroke:#ff7f0e;stroke-linecap:square;\"/>\n   </g>\n   <g id=\"patch_3\">\n    <path d=\"M 30.103125 224.64 \nL 30.103125 7.2 \n\" style=\"fill:none;stroke:#000000;stroke-linecap:square;stroke-linejoin:miter;stroke-width:0.8;\"/>\n   </g>\n   <g id=\"patch_4\">\n    <path d=\"M 364.903125 224.64 \nL 364.903125 7.2 \n\" style=\"fill:none;stroke:#000000;stroke-linecap:square;stroke-linejoin:miter;stroke-width:0.8;\"/>\n   </g>\n   <g id=\"patch_5\">\n    <path d=\"M 30.103125 224.64 \nL 364.903125 224.64 \n\" style=\"fill:none;stroke:#000000;stroke-linecap:square;stroke-linejoin:miter;stroke-width:0.8;\"/>\n   </g>\n   <g id=\"patch_6\">\n    <path d=\"M 30.103125 7.2 \nL 364.903125 7.2 \n\" style=\"fill:none;stroke:#000000;stroke-linecap:square;stroke-linejoin:miter;stroke-width:0.8;\"/>\n   </g>\n  </g>\n </g>\n <defs>\n  <clipPath id=\"p3fba691164\">\n   <rect height=\"217.44\" width=\"334.8\" x=\"30.103125\" y=\"7.2\"/>\n  </clipPath>\n </defs>\n</svg>\n",
      "image/png": "[encoded data removed]"
     },
     "metadata": {
      "needs_background": "light"
     }
    }
   ],
   "source": [
    "plt.boxplot(X['age']); plt.show()"
   ]
  },
  {
   "cell_type": "code",
   "execution_count": 32,
   "metadata": {},
   "outputs": [
    {
     "output_type": "execute_result",
     "data": {
      "text/plain": "0.2362288472812189"
     },
     "metadata": {},
     "execution_count": 32
    }
   ],
   "source": [
    "# age outliers\n",
    "X['age'].skew()"
   ]
  },
  {
   "cell_type": "code",
   "execution_count": 33,
   "metadata": {},
   "outputs": [
    {
     "output_type": "execute_result",
     "data": {
      "text/plain": "(840, 6)"
     },
     "metadata": {},
     "execution_count": 33
    }
   ],
   "source": [
    "max_age = X[\"age\"].mean() + (3 * X[\"age\"].std())\n",
    "X = X[X[\"age\"] <= max_age]\n",
    "X.shape"
   ]
  },
  {
   "cell_type": "code",
   "execution_count": 34,
   "metadata": {},
   "outputs": [
    {
     "output_type": "execute_result",
     "data": {
      "text/plain": "1    515\n0    325\nName: alone, dtype: int64"
     },
     "metadata": {},
     "execution_count": 34
    }
   ],
   "source": [
    "X['alone'].value_counts()"
   ]
  },
  {
   "cell_type": "code",
   "execution_count": 35,
   "metadata": {},
   "outputs": [
    {
     "output_type": "execute_result",
     "data": {
      "text/plain": "1.0    489\n0.5    183\n0.0    168\nName: class, dtype: int64"
     },
     "metadata": {},
     "execution_count": 35
    }
   ],
   "source": [
    "X['class'].value_counts()"
   ]
  },
  {
   "cell_type": "code",
   "execution_count": 36,
   "metadata": {},
   "outputs": [
    {
     "output_type": "execute_result",
     "data": {
      "text/plain": "1.0    616\n0.0    148\n0.5     76\nName: embark_town, dtype: int64"
     },
     "metadata": {},
     "execution_count": 36
    }
   ],
   "source": [
    "X['embark_town'].value_counts()"
   ]
  },
  {
   "cell_type": "markdown",
   "metadata": {},
   "source": [
    "## Convert to numeric"
   ]
  },
  {
   "cell_type": "code",
   "execution_count": 37,
   "metadata": {},
   "outputs": [
    {
     "output_type": "execute_result",
     "data": {
      "text/plain": "   sex       age      fare  class  embark_town  alone\n0    1  0.329064  0.043975      2            2      0\n1    0  0.573041  0.432369      0            0      0\n2    0  0.390058  0.048069      2            2      1\n3    0  0.527295  0.322078      0            2      0\n4    1  0.527295  0.048827      2            2      1\n5    1  0.451052  0.051304      2            1      1\n6    1  0.817017  0.314572      0            2      1\n7    1  0.024093  0.127831      2            2      0\n8    0  0.405306  0.067529      2            2      0\n9    0  0.207075  0.182395      1            0      0",
      "text/html": "<div>\n<style scoped>\n    .dataframe tbody tr th:only-of-type {\n        vertical-align: middle;\n    }\n\n    .dataframe tbody tr th {\n        vertical-align: top;\n    }\n\n    .dataframe thead th {\n        text-align: right;\n    }\n</style>\n<table border=\"1\" class=\"dataframe\">\n  <thead>\n    <tr style=\"text-align: right;\">\n      <th></th>\n      <th>sex</th>\n      <th>age</th>\n      <th>fare</th>\n      <th>class</th>\n      <th>embark_town</th>\n      <th>alone</th>\n    </tr>\n  </thead>\n  <tbody>\n    <tr>\n      <th>0</th>\n      <td>1</td>\n      <td>0.329064</td>\n      <td>0.043975</td>\n      <td>2</td>\n      <td>2</td>\n      <td>0</td>\n    </tr>\n    <tr>\n      <th>1</th>\n      <td>0</td>\n      <td>0.573041</td>\n      <td>0.432369</td>\n      <td>0</td>\n      <td>0</td>\n      <td>0</td>\n    </tr>\n    <tr>\n      <th>2</th>\n      <td>0</td>\n      <td>0.390058</td>\n      <td>0.048069</td>\n      <td>2</td>\n      <td>2</td>\n      <td>1</td>\n    </tr>\n    <tr>\n      <th>3</th>\n      <td>0</td>\n      <td>0.527295</td>\n      <td>0.322078</td>\n      <td>0</td>\n      <td>2</td>\n      <td>0</td>\n    </tr>\n    <tr>\n      <th>4</th>\n      <td>1</td>\n      <td>0.527295</td>\n      <td>0.048827</td>\n      <td>2</td>\n      <td>2</td>\n      <td>1</td>\n    </tr>\n    <tr>\n      <th>5</th>\n      <td>1</td>\n      <td>0.451052</td>\n      <td>0.051304</td>\n      <td>2</td>\n      <td>1</td>\n      <td>1</td>\n    </tr>\n    <tr>\n      <th>6</th>\n      <td>1</td>\n      <td>0.817017</td>\n      <td>0.314572</td>\n      <td>0</td>\n      <td>2</td>\n      <td>1</td>\n    </tr>\n    <tr>\n      <th>7</th>\n      <td>1</td>\n      <td>0.024093</td>\n      <td>0.127831</td>\n      <td>2</td>\n      <td>2</td>\n      <td>0</td>\n    </tr>\n    <tr>\n      <th>8</th>\n      <td>0</td>\n      <td>0.405306</td>\n      <td>0.067529</td>\n      <td>2</td>\n      <td>2</td>\n      <td>0</td>\n    </tr>\n    <tr>\n      <th>9</th>\n      <td>0</td>\n      <td>0.207075</td>\n      <td>0.182395</td>\n      <td>1</td>\n      <td>0</td>\n      <td>0</td>\n    </tr>\n  </tbody>\n</table>\n</div>"
     },
     "metadata": {},
     "execution_count": 37
    }
   ],
   "source": [
    "from sklearn.preprocessing import LabelEncoder\n",
    "enc = LabelEncoder()\n",
    "\n",
    "X['sex'] = enc.fit_transform(X['sex'])\n",
    "X['class'] = enc.fit_transform(X['class'])\n",
    "X['embark_town'] = enc.fit_transform(X['embark_town'])\n",
    "X['alone'] = enc.fit_transform(X['alone'])\n",
    "X.head(10)"
   ]
  },
  {
   "cell_type": "markdown",
   "metadata": {},
   "source": [
    "## Normalization"
   ]
  },
  {
   "cell_type": "code",
   "execution_count": 38,
   "metadata": {},
   "outputs": [
    {
     "output_type": "execute_result",
     "data": {
      "text/plain": "pandas.core.series.Series"
     },
     "metadata": {},
     "execution_count": 38
    }
   ],
   "source": [
    "type(X['age'])"
   ]
  },
  {
   "cell_type": "code",
   "execution_count": 39,
   "metadata": {},
   "outputs": [
    {
     "output_type": "execute_result",
     "data": {
      "text/plain": "pandas.core.frame.DataFrame"
     },
     "metadata": {},
     "execution_count": 39
    }
   ],
   "source": [
    "type(X[['age']])"
   ]
  },
  {
   "cell_type": "code",
   "execution_count": 40,
   "metadata": {},
   "outputs": [
    {
     "output_type": "execute_result",
     "data": {
      "text/plain": "   sex       age      fare  class  embark_town  alone\n0    1  0.329064  0.064004    1.0          1.0      0\n1    0  0.573041  0.629294    0.0          0.0      0\n2    0  0.390058  0.069962    1.0          1.0      1\n3    0  0.527295  0.468771    0.0          1.0      0\n4    1  0.527295  0.071066    1.0          1.0      1\n5    1  0.451052  0.074670    1.0          0.5      1\n6    1  0.817017  0.457846    0.0          1.0      1\n7    1  0.024093  0.186052    1.0          1.0      0\n8    0  0.405306  0.098286    1.0          1.0      0\n9    0  0.207075  0.265467    0.5          0.0      0",
      "text/html": "<div>\n<style scoped>\n    .dataframe tbody tr th:only-of-type {\n        vertical-align: middle;\n    }\n\n    .dataframe tbody tr th {\n        vertical-align: top;\n    }\n\n    .dataframe thead th {\n        text-align: right;\n    }\n</style>\n<table border=\"1\" class=\"dataframe\">\n  <thead>\n    <tr style=\"text-align: right;\">\n      <th></th>\n      <th>sex</th>\n      <th>age</th>\n      <th>fare</th>\n      <th>class</th>\n      <th>embark_town</th>\n      <th>alone</th>\n    </tr>\n  </thead>\n  <tbody>\n    <tr>\n      <th>0</th>\n      <td>1</td>\n      <td>0.329064</td>\n      <td>0.064004</td>\n      <td>1.0</td>\n      <td>1.0</td>\n      <td>0</td>\n    </tr>\n    <tr>\n      <th>1</th>\n      <td>0</td>\n      <td>0.573041</td>\n      <td>0.629294</td>\n      <td>0.0</td>\n      <td>0.0</td>\n      <td>0</td>\n    </tr>\n    <tr>\n      <th>2</th>\n      <td>0</td>\n      <td>0.390058</td>\n      <td>0.069962</td>\n      <td>1.0</td>\n      <td>1.0</td>\n      <td>1</td>\n    </tr>\n    <tr>\n      <th>3</th>\n      <td>0</td>\n      <td>0.527295</td>\n      <td>0.468771</td>\n      <td>0.0</td>\n      <td>1.0</td>\n      <td>0</td>\n    </tr>\n    <tr>\n      <th>4</th>\n      <td>1</td>\n      <td>0.527295</td>\n      <td>0.071066</td>\n      <td>1.0</td>\n      <td>1.0</td>\n      <td>1</td>\n    </tr>\n    <tr>\n      <th>5</th>\n      <td>1</td>\n      <td>0.451052</td>\n      <td>0.074670</td>\n      <td>1.0</td>\n      <td>0.5</td>\n      <td>1</td>\n    </tr>\n    <tr>\n      <th>6</th>\n      <td>1</td>\n      <td>0.817017</td>\n      <td>0.457846</td>\n      <td>0.0</td>\n      <td>1.0</td>\n      <td>1</td>\n    </tr>\n    <tr>\n      <th>7</th>\n      <td>1</td>\n      <td>0.024093</td>\n      <td>0.186052</td>\n      <td>1.0</td>\n      <td>1.0</td>\n      <td>0</td>\n    </tr>\n    <tr>\n      <th>8</th>\n      <td>0</td>\n      <td>0.405306</td>\n      <td>0.098286</td>\n      <td>1.0</td>\n      <td>1.0</td>\n      <td>0</td>\n    </tr>\n    <tr>\n      <th>9</th>\n      <td>0</td>\n      <td>0.207075</td>\n      <td>0.265467</td>\n      <td>0.5</td>\n      <td>0.0</td>\n      <td>0</td>\n    </tr>\n  </tbody>\n</table>\n</div>"
     },
     "metadata": {},
     "execution_count": 40
    }
   ],
   "source": [
    "from sklearn.preprocessing import minmax_scale\n",
    "# watch the [['attr']] !!!\n",
    "X['age'] = minmax_scale(X[['age']])\n",
    "X['fare'] = minmax_scale(X[['fare']])\n",
    "X['class'] = minmax_scale(X[['class']])\n",
    "X['embark_town'] = minmax_scale(X[['embark_town']])\n",
    "\n",
    "X.head(10)"
   ]
  }
 ],
 "metadata": {
  "language_info": {
   "codemirror_mode": {
    "name": "ipython",
    "version": 3
   },
   "file_extension": ".py",
   "mimetype": "text/x-python",
   "name": "python",
   "nbconvert_exporter": "python",
   "pygments_lexer": "ipython3",
   "version": "3.7.6-final"
  },
  "orig_nbformat": 2,
  "kernelspec": {
   "name": "python37664bitbaseconda0d307a3315b04f05a0cff8ed9700268c",
   "display_name": "Python 3.7.6 64-bit ('base': conda)"
  }
 },
 "nbformat": 4,
 "nbformat_minor": 2
}