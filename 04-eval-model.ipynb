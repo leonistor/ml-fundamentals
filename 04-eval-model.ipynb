{
 "cells": [
  {
   "cell_type": "code",
   "execution_count": 7,
   "metadata": {},
   "outputs": [
    {
     "output_type": "execute_result",
     "data": {
      "text/plain": "age                  0\nworkclass         1836\neducation-num        0\nmarital-status       0\noccupation        1843\ncapital-gain         0\ncapital-loss         0\nhours-per-week       0\nnative-country     583\ntarget               0\ndtype: int64"
     },
     "metadata": {},
     "execution_count": 7
    }
   ],
   "source": [
    "import pandas as pd\n",
    "\n",
    "data = pd.read_csv('datasets/census_income_dataset.csv')\n",
    "# data.info()\n",
    "data = data.drop([\"fnlwgt\",\"education\",\"relationship\", \"sex\", \"race\"], axis=1)\n",
    "data.isnull().sum()"
   ]
  },
  {
   "cell_type": "code",
   "execution_count": 9,
   "metadata": {},
   "outputs": [
    {
     "output_type": "execute_result",
     "data": {
      "text/plain": "   age  workclass  education-num  marital-status  occupation  capital-gain  \\\n0   39          6             13               4           0          2174   \n1   50          5             13               2           8             0   \n2   38          3              9               0          10             0   \n3   53          3              7               2          10             0   \n4   28          3             13               2          14             0   \n\n   capital-loss  hours-per-week  native-country  target  \n0             0              40              32       0  \n1             0              13              32       0  \n2             0              40              32       0  \n3             0              40              32       0  \n4             0              40              34       0  ",
      "text/html": "<div>\n<style scoped>\n    .dataframe tbody tr th:only-of-type {\n        vertical-align: middle;\n    }\n\n    .dataframe tbody tr th {\n        vertical-align: top;\n    }\n\n    .dataframe thead th {\n        text-align: right;\n    }\n</style>\n<table border=\"1\" class=\"dataframe\">\n  <thead>\n    <tr style=\"text-align: right;\">\n      <th></th>\n      <th>age</th>\n      <th>workclass</th>\n      <th>education-num</th>\n      <th>marital-status</th>\n      <th>occupation</th>\n      <th>capital-gain</th>\n      <th>capital-loss</th>\n      <th>hours-per-week</th>\n      <th>native-country</th>\n      <th>target</th>\n    </tr>\n  </thead>\n  <tbody>\n    <tr>\n      <th>0</th>\n      <td>39</td>\n      <td>6</td>\n      <td>13</td>\n      <td>4</td>\n      <td>0</td>\n      <td>2174</td>\n      <td>0</td>\n      <td>40</td>\n      <td>32</td>\n      <td>0</td>\n    </tr>\n    <tr>\n      <th>1</th>\n      <td>50</td>\n      <td>5</td>\n      <td>13</td>\n      <td>2</td>\n      <td>8</td>\n      <td>0</td>\n      <td>0</td>\n      <td>13</td>\n      <td>32</td>\n      <td>0</td>\n    </tr>\n    <tr>\n      <th>2</th>\n      <td>38</td>\n      <td>3</td>\n      <td>9</td>\n      <td>0</td>\n      <td>10</td>\n      <td>0</td>\n      <td>0</td>\n      <td>40</td>\n      <td>32</td>\n      <td>0</td>\n    </tr>\n    <tr>\n      <th>3</th>\n      <td>53</td>\n      <td>3</td>\n      <td>7</td>\n      <td>2</td>\n      <td>10</td>\n      <td>0</td>\n      <td>0</td>\n      <td>40</td>\n      <td>32</td>\n      <td>0</td>\n    </tr>\n    <tr>\n      <th>4</th>\n      <td>28</td>\n      <td>3</td>\n      <td>13</td>\n      <td>2</td>\n      <td>14</td>\n      <td>0</td>\n      <td>0</td>\n      <td>40</td>\n      <td>34</td>\n      <td>0</td>\n    </tr>\n  </tbody>\n</table>\n</div>"
     },
     "metadata": {},
     "execution_count": 9
    }
   ],
   "source": [
    "from sklearn.preprocessing import LabelEncoder\n",
    "enc = LabelEncoder()\n",
    "\n",
    "features_to_convert = [\"workclass\",\"marital-status\",\"occupation\",\"native-country\",\"target\"]\n",
    "for i in features_to_convert:\n",
    "    data[i] = enc.fit_transform(data[i].astype('str'))\n",
    "data.head()"
   ]
  },
  {
   "cell_type": "code",
   "execution_count": 12,
   "metadata": {},
   "outputs": [
    {
     "output_type": "stream",
     "name": "stdout",
     "text": "age [121, 32440]\nworkclass [0, 32561]\neducation-num [219, 32342]\nmarital-status [0, 32561]\noccupation [0, 32561]\ncapital-gain [215, 32346]\ncapital-loss [1470, 31091]\nhours-per-week [440, 32121]\nnative-country [919, 31642]\ntarget [0, 32561]\n"
    }
   ],
   "source": [
    "outliers = {}\n",
    "\n",
    "for i in range(data.shape[1]):\n",
    "    vals = data.columns[i]\n",
    "    min_t = data[vals].mean() - 3 * data[vals].std()\n",
    "    max_t = data[vals].mean() + 3 * data[vals].std()\n",
    "    count = 0\n",
    "    for j in data[vals]:\n",
    "        if j < min_t or j > max_t:\n",
    "            count += 1\n",
    "        outliers[vals] = [count, data.shape[0] -  count]\n",
    "for k, v in outliers.items():\n",
    "    print(k, v)"
   ]
  },
  {
   "cell_type": "code",
   "execution_count": 15,
   "metadata": {},
   "outputs": [
    {
     "output_type": "execute_result",
     "data": {
      "text/plain": "                age     workclass  education-num  marital-status  \\\ncount  32561.000000  32561.000000   32561.000000    32561.000000   \nmean      38.581647      3.376371      10.080679        2.611836   \nstd       13.640433      1.582038       2.572720        1.506222   \nmin       17.000000      0.000000       1.000000        0.000000   \n25%       28.000000      3.000000       9.000000        2.000000   \n50%       37.000000      3.000000      10.000000        2.000000   \n75%       48.000000      3.000000      12.000000        4.000000   \nmax       90.000000      8.000000      16.000000        6.000000   \n\n         occupation  capital-gain  capital-loss  hours-per-week  \\\ncount  32561.000000  32561.000000  32561.000000    32561.000000   \nmean       7.381162   1077.648844     87.303830       40.437456   \nstd        4.344411   7385.292085    402.960219       12.347429   \nmin        0.000000      0.000000      0.000000        1.000000   \n25%        4.000000      0.000000      0.000000       40.000000   \n50%        7.000000      0.000000      0.000000       40.000000   \n75%       11.000000      0.000000      0.000000       45.000000   \nmax       14.000000  99999.000000   4356.000000       99.000000   \n\n       native-country        target  \ncount    32561.000000  32561.000000  \nmean        31.016339      0.240810  \nstd          4.749134      0.427581  \nmin          0.000000      0.000000  \n25%         32.000000      0.000000  \n50%         32.000000      0.000000  \n75%         32.000000      0.000000  \nmax         41.000000      1.000000  ",
      "text/html": "<div>\n<style scoped>\n    .dataframe tbody tr th:only-of-type {\n        vertical-align: middle;\n    }\n\n    .dataframe tbody tr th {\n        vertical-align: top;\n    }\n\n    .dataframe thead th {\n        text-align: right;\n    }\n</style>\n<table border=\"1\" class=\"dataframe\">\n  <thead>\n    <tr style=\"text-align: right;\">\n      <th></th>\n      <th>age</th>\n      <th>workclass</th>\n      <th>education-num</th>\n      <th>marital-status</th>\n      <th>occupation</th>\n      <th>capital-gain</th>\n      <th>capital-loss</th>\n      <th>hours-per-week</th>\n      <th>native-country</th>\n      <th>target</th>\n    </tr>\n  </thead>\n  <tbody>\n    <tr>\n      <th>count</th>\n      <td>32561.000000</td>\n      <td>32561.000000</td>\n      <td>32561.000000</td>\n      <td>32561.000000</td>\n      <td>32561.000000</td>\n      <td>32561.000000</td>\n      <td>32561.000000</td>\n      <td>32561.000000</td>\n      <td>32561.000000</td>\n      <td>32561.000000</td>\n    </tr>\n    <tr>\n      <th>mean</th>\n      <td>38.581647</td>\n      <td>3.376371</td>\n      <td>10.080679</td>\n      <td>2.611836</td>\n      <td>7.381162</td>\n      <td>1077.648844</td>\n      <td>87.303830</td>\n      <td>40.437456</td>\n      <td>31.016339</td>\n      <td>0.240810</td>\n    </tr>\n    <tr>\n      <th>std</th>\n      <td>13.640433</td>\n      <td>1.582038</td>\n      <td>2.572720</td>\n      <td>1.506222</td>\n      <td>4.344411</td>\n      <td>7385.292085</td>\n      <td>402.960219</td>\n      <td>12.347429</td>\n      <td>4.749134</td>\n      <td>0.427581</td>\n    </tr>\n    <tr>\n      <th>min</th>\n      <td>17.000000</td>\n      <td>0.000000</td>\n      <td>1.000000</td>\n      <td>0.000000</td>\n      <td>0.000000</td>\n      <td>0.000000</td>\n      <td>0.000000</td>\n      <td>1.000000</td>\n      <td>0.000000</td>\n      <td>0.000000</td>\n    </tr>\n    <tr>\n      <th>25%</th>\n      <td>28.000000</td>\n      <td>3.000000</td>\n      <td>9.000000</td>\n      <td>2.000000</td>\n      <td>4.000000</td>\n      <td>0.000000</td>\n      <td>0.000000</td>\n      <td>40.000000</td>\n      <td>32.000000</td>\n      <td>0.000000</td>\n    </tr>\n    <tr>\n      <th>50%</th>\n      <td>37.000000</td>\n      <td>3.000000</td>\n      <td>10.000000</td>\n      <td>2.000000</td>\n      <td>7.000000</td>\n      <td>0.000000</td>\n      <td>0.000000</td>\n      <td>40.000000</td>\n      <td>32.000000</td>\n      <td>0.000000</td>\n    </tr>\n    <tr>\n      <th>75%</th>\n      <td>48.000000</td>\n      <td>3.000000</td>\n      <td>12.000000</td>\n      <td>4.000000</td>\n      <td>11.000000</td>\n      <td>0.000000</td>\n      <td>0.000000</td>\n      <td>45.000000</td>\n      <td>32.000000</td>\n      <td>0.000000</td>\n    </tr>\n    <tr>\n      <th>max</th>\n      <td>90.000000</td>\n      <td>8.000000</td>\n      <td>16.000000</td>\n      <td>6.000000</td>\n      <td>14.000000</td>\n      <td>99999.000000</td>\n      <td>4356.000000</td>\n      <td>99.000000</td>\n      <td>41.000000</td>\n      <td>1.000000</td>\n    </tr>\n  </tbody>\n</table>\n</div>"
     },
     "metadata": {},
     "execution_count": 15
    }
   ],
   "source": [
    "data.describe()"
   ]
  },
  {
   "cell_type": "code",
   "execution_count": null,
   "metadata": {},
   "outputs": [],
   "source": []
  }
 ],
 "metadata": {
  "language_info": {
   "codemirror_mode": {
    "name": "ipython",
    "version": 3
   },
   "file_extension": ".py",
   "mimetype": "text/x-python",
   "name": "python",
   "nbconvert_exporter": "python",
   "pygments_lexer": "ipython3",
   "version": "3.7.6-final"
  },
  "orig_nbformat": 2,
  "kernelspec": {
   "name": "python37664bitbaseconda0d307a3315b04f05a0cff8ed9700268c",
   "display_name": "Python 3.7.6 64-bit ('base': conda)"
  }
 },
 "nbformat": 4,
 "nbformat_minor": 2
}